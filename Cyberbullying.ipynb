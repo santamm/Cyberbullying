{
 "cells": [
  {
   "cell_type": "markdown",
   "metadata": {},
   "source": [
    "## Introduction\n",
    "\n",
    "We present an analysis of emotions linked to tweets in order to detect instances of cyberbulling.\n",
    "The tweets dataset has been manually collected using twitter APIs by Margarita Bugueño, Fabián Fernandez and Francisco Mena.\n",
    "\n",
    "The NRC Emotion Lexicon (aka Emolex) is a list of English words and their associations with eight basic emotions (anger, fear, anticipation, trust, surprise, sadness, joy, and disgust) and two sentiments (negative and positive). It has been developed by [Saif Mohammad](https://saifmohammad.com/WebPages/NRC-Emotion-Lexicon.htm) and is a lexic tag based on the Plutchick wheel of emotions. The annotations were manually done by crowdsourcing.\n"
   ]
  },
  {
   "cell_type": "markdown",
   "metadata": {},
   "source": [
    "## Exploratory Analysis\n",
    "To begin this exploratory analysis, first import libraries and define functions for plotting the data using `matplotlib`. Depending on the data, not all plots will be made. (Hey, I'm just a simple kerneling bot, not a Kaggle Competitions Grandmaster!)"
   ]
  },
  {
   "cell_type": "code",
   "execution_count": 87,
   "metadata": {
    "_kg_hide-input": false
   },
   "outputs": [],
   "source": [
    "from mpl_toolkits.mplot3d import Axes3D\n",
    "from sklearn.preprocessing import StandardScaler\n",
    "import matplotlib.pyplot as plt # plotting\n",
    "import numpy as np # linear algebra\n",
    "import os # accessing directory structure\n",
    "import pandas as pd # data processing, CSV file I/O (e.g. pd.read_csv)\n",
    "import warnings\n",
    "warnings.filterwarnings('ignore')\n"
   ]
  },
  {
   "cell_type": "markdown",
   "metadata": {},
   "source": [
    "There are 44 csv files in the current version of the dataset:\n"
   ]
  },
  {
   "cell_type": "code",
   "execution_count": 88,
   "metadata": {
    "_kg_hide-input": false
   },
   "outputs": [
    {
     "name": "stdout",
     "output_type": "stream",
     "text": [
      "['tweets']\n",
      "['shadical.csv', 'gertrxde.csv', 'amourkaoir.csv', 'doragtz1999.csv', 'LifeSuckSmith.csv', 'saadteengiirl.csv', 'thelife_ofkeke.csv', 'dontstephoverme.csv', 'llaaiikkyynn.csv', 'WieBoth.csv', 'bmarsh2016.csv', 'basicxxcaitlyn.csv', 'itsjustindiaaa.csv', 'TabithaRenea97.csv', '_SamVsTheWorld.csv', 'lonely_dag.csv', 'YungDreez_513.csv', 'Chicatriste_.csv', 'daddyrogo.csv', 'ayolilmami.csv', 'ch8tta.csv', 'steveningersol1.csv', 'thatgirlkanisha.csv', 'parishighlife.csv', 'kbc00per.csv', 'sammay_b.csv', 'parrazserenity.csv', 'IrisNotIrish24.csv', 'caitlinnwells.csv', 'Hayes_502.csv', 'MDinOK.csv', 'CloudyCanine.csv', 'bailee_marie_mc.csv', 'madisonathacker.csv', 'RebekahhJM.csv', 'gayrissa.csv', 'keatsy2112.csv', 'alyssalg93.csv', 'lxrree.csv', 'elizzabethkayy.csv', 'dorsey_5.csv', 'kvenissed.csv', 'Taylor1Savanna.csv']\n"
     ]
    }
   ],
   "source": [
    "print(os.listdir('data'))\n",
    "print(os.listdir('data/tweets'))"
   ]
  },
  {
   "cell_type": "code",
   "execution_count": 89,
   "metadata": {},
   "outputs": [
    {
     "name": "stdout",
     "output_type": "stream",
     "text": [
      "There are 2733 rows and 5 columns\n"
     ]
    },
    {
     "data": {
      "text/html": [
       "<div>\n",
       "<style scoped>\n",
       "    .dataframe tbody tr th:only-of-type {\n",
       "        vertical-align: middle;\n",
       "    }\n",
       "\n",
       "    .dataframe tbody tr th {\n",
       "        vertical-align: top;\n",
       "    }\n",
       "\n",
       "    .dataframe thead th {\n",
       "        text-align: right;\n",
       "    }\n",
       "</style>\n",
       "<table border=\"1\" class=\"dataframe\">\n",
       "  <thead>\n",
       "    <tr style=\"text-align: right;\">\n",
       "      <th></th>\n",
       "      <th>id</th>\n",
       "      <th>favorite count</th>\n",
       "      <th>retweet count</th>\n",
       "      <th>text</th>\n",
       "      <th>created at</th>\n",
       "    </tr>\n",
       "  </thead>\n",
       "  <tbody>\n",
       "    <tr>\n",
       "      <td>0</td>\n",
       "      <td>897881647458209794</td>\n",
       "      <td>1</td>\n",
       "      <td>0</td>\n",
       "      <td>@GrantCoss_19 Not me! I stop 100X for dance br...</td>\n",
       "      <td>2017-08-16 18:04:01</td>\n",
       "    </tr>\n",
       "    <tr>\n",
       "      <td>1</td>\n",
       "      <td>897625970286493696</td>\n",
       "      <td>1</td>\n",
       "      <td>0</td>\n",
       "      <td>@dean_unglert looks bored af during this meeti...</td>\n",
       "      <td>2017-08-16 01:08:03</td>\n",
       "    </tr>\n",
       "    <tr>\n",
       "      <td>2</td>\n",
       "      <td>897495687671291908</td>\n",
       "      <td>1</td>\n",
       "      <td>0</td>\n",
       "      <td>@RBlaedow @ShaniaTwain And until they invite B...</td>\n",
       "      <td>2017-08-15 16:30:21</td>\n",
       "    </tr>\n",
       "    <tr>\n",
       "      <td>3</td>\n",
       "      <td>895824697220243456</td>\n",
       "      <td>0</td>\n",
       "      <td>0</td>\n",
       "      <td>I never want raven or Paul to be HOH #BB19</td>\n",
       "      <td>2017-08-11 01:50:26</td>\n",
       "    </tr>\n",
       "    <tr>\n",
       "      <td>4</td>\n",
       "      <td>895746158022316033</td>\n",
       "      <td>0</td>\n",
       "      <td>0</td>\n",
       "      <td>Dorit Kemsley just liked my comment on Ig. Lif...</td>\n",
       "      <td>2017-08-10 20:38:20</td>\n",
       "    </tr>\n",
       "  </tbody>\n",
       "</table>\n",
       "</div>"
      ],
      "text/plain": [
       "                   id  favorite count  retweet count  \\\n",
       "0  897881647458209794               1              0   \n",
       "1  897625970286493696               1              0   \n",
       "2  897495687671291908               1              0   \n",
       "3  895824697220243456               0              0   \n",
       "4  895746158022316033               0              0   \n",
       "\n",
       "                                                text           created at  \n",
       "0  @GrantCoss_19 Not me! I stop 100X for dance br...  2017-08-16 18:04:01  \n",
       "1  @dean_unglert looks bored af during this meeti...  2017-08-16 01:08:03  \n",
       "2  @RBlaedow @ShaniaTwain And until they invite B...  2017-08-15 16:30:21  \n",
       "3         I never want raven or Paul to be HOH #BB19  2017-08-11 01:50:26  \n",
       "4  Dorit Kemsley just liked my comment on Ig. Lif...  2017-08-10 20:38:20  "
      ]
     },
     "execution_count": 89,
     "metadata": {},
     "output_type": "execute_result"
    }
   ],
   "source": [
    "# Previewing one file alyssalg93.csv \n",
    "\n",
    "tweets = pd.read_csv('data/tweets/alyssalg93.csv', delimiter=',')\n",
    "tweets.dataframeName = 'alyssalg93.csv'\n",
    "print(f'There are {tweets.shape[0]} rows and {tweets.shape[1]} columns')\n",
    "tweets.head()"
   ]
  },
  {
   "cell_type": "markdown",
   "metadata": {},
   "source": [
    "# Using the NRC Emoticon Lexicon\n",
    "We will be using the NRC Emotion Lexicon for the sentiment analysis of the tweets.\n",
    "The NRC Emotion Lexicon is a list of English words and their associations with eight basic e motions \n",
    "(anger, fear, anticipation, trust, surprise, sadness, joy, and disgust) and two sentiments \n",
    "(negative and positive). The annotations were manually done by crowdsourcing."
   ]
  },
  {
   "cell_type": "code",
   "execution_count": 90,
   "metadata": {},
   "outputs": [
    {
     "name": "stdout",
     "output_type": "stream",
     "text": [
      "We built a dictionary of 10943 words associated to emotions\n"
     ]
    }
   ],
   "source": [
    "from nltk import word_tokenize\n",
    "from nltk.stem.snowball import SnowballStemmer\n",
    "\n",
    "from tqdm import tqdm_notebook as tqdm\n",
    "\n",
    "stemmer = SnowballStemmer(\"english\")\n",
    "\n",
    "\n",
    "lexicon = \"NRC-Sentiment-Emotion-Lexicons/NRC-Emotion-Lexicon-v0.92/NRC-Emotion-Lexicon-Wordlevel-v0.92.txt\"\n",
    "emolex_df = pd.read_csv(lexicon,\n",
    "                            names=[\"word\", \"emotion\", \"association\"],\n",
    "                            sep='\\t')\n",
    "\n",
    "emolex_df.dropna(subset=['word'], inplace=True)\n",
    "\n",
    "emolex_words = emolex_df.pivot(index='word',\n",
    "                                columns='emotion',\n",
    "                                values='association')\n",
    "\n",
    "emolex_words.index = emolex_words.index.map(lambda w: stemmer.stem(w.lower()) if w else nan)\n",
    "\n",
    "emotions = emolex_words.columns.values\n",
    "\n",
    "emolex_words['emotions'] = list(zip(emolex_words.anger, emolex_words.anticipation, emolex_words.disgust,\n",
    "                                  emolex_words.fear, emolex_words.joy, emolex_words.negative, emolex_words.positive,\n",
    "                                   emolex_words.sadness, emolex_words.surprise, emolex_words.trust))\n",
    "\n",
    "# Convert into a dictionary for faster lookup\n",
    "emolex_dict = emolex_words['emotions'].to_dict()\n",
    "\n",
    "\n",
    "\n",
    "print(\"We built a dictionary of {} words associated to emotions\".format(len(emolex_dict)))"
   ]
  },
  {
   "cell_type": "code",
   "execution_count": null,
   "metadata": {},
   "outputs": [],
   "source": []
  },
  {
   "cell_type": "code",
   "execution_count": 92,
   "metadata": {},
   "outputs": [
    {
     "name": "stderr",
     "output_type": "stream",
     "text": [
      "[nltk_data] Downloading package punkt to /Users/maurizio/nltk_data...\n",
      "[nltk_data]   Package punkt is already up-to-date!\n"
     ]
    },
    {
     "data": {
      "text/plain": [
       "True"
      ]
     },
     "execution_count": 92,
     "metadata": {},
     "output_type": "execute_result"
    }
   ],
   "source": [
    "# Run only once\n",
    "import nltk\n",
    "nltk.download('punkt')"
   ]
  },
  {
   "cell_type": "code",
   "execution_count": 93,
   "metadata": {},
   "outputs": [],
   "source": [
    "def text_emotion(df, column):\n",
    "    '''\n",
    "    Takes a DataFrame and a specified column of text and adds 10 columns\n",
    "    for each of the 10 emotions in the NRC Emotion Lexicon, with each\n",
    "    column containing the value of the text in that emotions and the counts of tweets\n",
    "    INPUT: DataFrame, string\n",
    "    OUTPUT: New DataFrame with ten new columns\n",
    "    '''\n",
    "\n",
    "    new_df = df.drop(['id', 'favorite count', 'retweet count', 'created at'], axis=1)\n",
    "    new_df['document'] = pd.Series()\n",
    "    new_df = new_df.reindex(columns=new_df.columns.tolist())\n",
    "    # Convert to numpy array\n",
    "    tweets = new_df.copy().to_numpy()\n",
    "    scores = np.zeros((tweets.shape[0], len(emotions)))\n",
    "    #print(scores.shape)\n",
    "\n",
    "\n",
    "    with tqdm(total=new_df.shape[0]) as pbar:\n",
    "        for i, text in enumerate(tweets[:, 0]):        \n",
    "            pbar.update(1)\n",
    "            #print(\"Iteration \",i)\n",
    "            document = word_tokenize(text)\n",
    "            tweets[i, 2] = document\n",
    "            for w, word in enumerate(document):\n",
    "                document[w] = stemmer.stem(word.lower())\n",
    "                #emo_score = emolex_words[emolex_words.word == word].values\n",
    "                emo_score = emolex_dict.get(word)\n",
    "                if emo_score != None:\n",
    "                    scores[i,:] += list(emo_score)\n",
    "    \n",
    "    tweets_df = pd.DataFrame(data=tweets, columns=new_df.columns)\n",
    "    scores_df = pd.DataFrame(data=scores, columns=emotions)\n",
    "\n",
    "    return pd.concat([tweets_df, scores_df], axis=1)  "
   ]
  },
  {
   "cell_type": "markdown",
   "metadata": {},
   "source": [
    "Now we can read all the files and build one dataframe with the emolex scores from all the tweets in the directory"
   ]
  },
  {
   "cell_type": "code",
   "execution_count": 94,
   "metadata": {
    "_kg_hide-input": false,
    "scrolled": true
   },
   "outputs": [
    {
     "name": "stdout",
     "output_type": "stream",
     "text": [
      "Scoring tweets from  shadical\n"
     ]
    },
    {
     "data": {
      "application/vnd.jupyter.widget-view+json": {
       "model_id": "01323c80f7a0446ea288bdbaa4183209",
       "version_major": 2,
       "version_minor": 0
      },
      "text/plain": [
       "HBox(children=(IntProgress(value=0, max=5510), HTML(value='')))"
      ]
     },
     "metadata": {},
     "output_type": "display_data"
    },
    {
     "name": "stdout",
     "output_type": "stream",
     "text": [
      "\n",
      "Scoring tweets from  gertrxde\n"
     ]
    },
    {
     "data": {
      "application/vnd.jupyter.widget-view+json": {
       "model_id": "09babb4d9e334a48a43aab39cc578365",
       "version_major": 2,
       "version_minor": 0
      },
      "text/plain": [
       "HBox(children=(IntProgress(value=0, max=3028), HTML(value='')))"
      ]
     },
     "metadata": {},
     "output_type": "display_data"
    },
    {
     "name": "stdout",
     "output_type": "stream",
     "text": [
      "\n",
      "Scoring tweets from  amourkaoir\n"
     ]
    },
    {
     "data": {
      "application/vnd.jupyter.widget-view+json": {
       "model_id": "a0830d98058a45798e99bc37a8a9a4ae",
       "version_major": 2,
       "version_minor": 0
      },
      "text/plain": [
       "HBox(children=(IntProgress(value=0, max=1464), HTML(value='')))"
      ]
     },
     "metadata": {},
     "output_type": "display_data"
    },
    {
     "name": "stdout",
     "output_type": "stream",
     "text": [
      "\n",
      "Scoring tweets from  doragtz1999\n"
     ]
    },
    {
     "data": {
      "application/vnd.jupyter.widget-view+json": {
       "model_id": "5f07e6612b494ceba7e1b86b33a97ec1",
       "version_major": 2,
       "version_minor": 0
      },
      "text/plain": [
       "HBox(children=(IntProgress(value=0, max=1479), HTML(value='')))"
      ]
     },
     "metadata": {},
     "output_type": "display_data"
    },
    {
     "name": "stdout",
     "output_type": "stream",
     "text": [
      "\n",
      "Scoring tweets from  LifeSuckSmith\n"
     ]
    },
    {
     "data": {
      "application/vnd.jupyter.widget-view+json": {
       "model_id": "a6606f995a724aa3b6d53f43cf4e8a8a",
       "version_major": 2,
       "version_minor": 0
      },
      "text/plain": [
       "HBox(children=(IntProgress(value=0, max=54), HTML(value='')))"
      ]
     },
     "metadata": {},
     "output_type": "display_data"
    },
    {
     "name": "stdout",
     "output_type": "stream",
     "text": [
      "\n",
      "Scoring tweets from  saadteengiirl\n"
     ]
    },
    {
     "data": {
      "application/vnd.jupyter.widget-view+json": {
       "model_id": "13447a1e2d2e4e83bb75597ead3041c7",
       "version_major": 2,
       "version_minor": 0
      },
      "text/plain": [
       "HBox(children=(IntProgress(value=0, max=8), HTML(value='')))"
      ]
     },
     "metadata": {},
     "output_type": "display_data"
    },
    {
     "name": "stdout",
     "output_type": "stream",
     "text": [
      "\n",
      "Scoring tweets from  thelife_ofkeke\n"
     ]
    },
    {
     "data": {
      "application/vnd.jupyter.widget-view+json": {
       "model_id": "31908aa9d981402783dab9fc17318e95",
       "version_major": 2,
       "version_minor": 0
      },
      "text/plain": [
       "HBox(children=(IntProgress(value=0, max=2960), HTML(value='')))"
      ]
     },
     "metadata": {},
     "output_type": "display_data"
    },
    {
     "name": "stdout",
     "output_type": "stream",
     "text": [
      "\n",
      "Scoring tweets from  dontstephoverme\n"
     ]
    },
    {
     "data": {
      "application/vnd.jupyter.widget-view+json": {
       "model_id": "12366b10b71247b1ad41782388f57d7c",
       "version_major": 2,
       "version_minor": 0
      },
      "text/plain": [
       "HBox(children=(IntProgress(value=0, max=1858), HTML(value='')))"
      ]
     },
     "metadata": {},
     "output_type": "display_data"
    },
    {
     "name": "stdout",
     "output_type": "stream",
     "text": [
      "\n",
      "Scoring tweets from  llaaiikkyynn\n"
     ]
    },
    {
     "data": {
      "application/vnd.jupyter.widget-view+json": {
       "model_id": "47e3bfebb6224f46bc835bf6ff905721",
       "version_major": 2,
       "version_minor": 0
      },
      "text/plain": [
       "HBox(children=(IntProgress(value=0, max=101), HTML(value='')))"
      ]
     },
     "metadata": {},
     "output_type": "display_data"
    },
    {
     "name": "stdout",
     "output_type": "stream",
     "text": [
      "\n",
      "Scoring tweets from  WieBoth\n"
     ]
    },
    {
     "data": {
      "application/vnd.jupyter.widget-view+json": {
       "model_id": "498f00faa64047078713eb0612769f3e",
       "version_major": 2,
       "version_minor": 0
      },
      "text/plain": [
       "HBox(children=(IntProgress(value=0, max=194), HTML(value='')))"
      ]
     },
     "metadata": {},
     "output_type": "display_data"
    },
    {
     "name": "stdout",
     "output_type": "stream",
     "text": [
      "\n",
      "Scoring tweets from  bmarsh2016\n"
     ]
    },
    {
     "data": {
      "application/vnd.jupyter.widget-view+json": {
       "model_id": "e5fd314097f344e98a1d5d623cc46601",
       "version_major": 2,
       "version_minor": 0
      },
      "text/plain": [
       "HBox(children=(IntProgress(value=0, max=370), HTML(value='')))"
      ]
     },
     "metadata": {},
     "output_type": "display_data"
    },
    {
     "name": "stdout",
     "output_type": "stream",
     "text": [
      "\n",
      "Scoring tweets from  basicxxcaitlyn\n"
     ]
    },
    {
     "data": {
      "application/vnd.jupyter.widget-view+json": {
       "model_id": "07928bff06fe49eca830df3826412e7c",
       "version_major": 2,
       "version_minor": 0
      },
      "text/plain": [
       "HBox(children=(IntProgress(value=0, max=1296), HTML(value='')))"
      ]
     },
     "metadata": {},
     "output_type": "display_data"
    },
    {
     "name": "stdout",
     "output_type": "stream",
     "text": [
      "\n",
      "Scoring tweets from  itsjustindiaaa\n"
     ]
    },
    {
     "data": {
      "application/vnd.jupyter.widget-view+json": {
       "model_id": "a235d2b20a4644c3a972c323db20ec65",
       "version_major": 2,
       "version_minor": 0
      },
      "text/plain": [
       "HBox(children=(IntProgress(value=0, max=1711), HTML(value='')))"
      ]
     },
     "metadata": {},
     "output_type": "display_data"
    },
    {
     "name": "stdout",
     "output_type": "stream",
     "text": [
      "\n",
      "Scoring tweets from  TabithaRenea97\n"
     ]
    },
    {
     "data": {
      "application/vnd.jupyter.widget-view+json": {
       "model_id": "a455f5c6dfae44aa9eecce9f9469b03e",
       "version_major": 2,
       "version_minor": 0
      },
      "text/plain": [
       "HBox(children=(IntProgress(value=0, max=413), HTML(value='')))"
      ]
     },
     "metadata": {},
     "output_type": "display_data"
    },
    {
     "name": "stdout",
     "output_type": "stream",
     "text": [
      "\n",
      "Scoring tweets from  _SamVsTheWorld\n"
     ]
    },
    {
     "data": {
      "application/vnd.jupyter.widget-view+json": {
       "model_id": "ad4da2fbf7c749ef901b6a18021fbf67",
       "version_major": 2,
       "version_minor": 0
      },
      "text/plain": [
       "HBox(children=(IntProgress(value=0, max=2094), HTML(value='')))"
      ]
     },
     "metadata": {},
     "output_type": "display_data"
    },
    {
     "name": "stdout",
     "output_type": "stream",
     "text": [
      "\n",
      "Scoring tweets from  lonely_dag\n"
     ]
    },
    {
     "data": {
      "application/vnd.jupyter.widget-view+json": {
       "model_id": "6647021f7e4649f1848f5e734d171edd",
       "version_major": 2,
       "version_minor": 0
      },
      "text/plain": [
       "HBox(children=(IntProgress(value=0, max=424), HTML(value='')))"
      ]
     },
     "metadata": {},
     "output_type": "display_data"
    },
    {
     "name": "stdout",
     "output_type": "stream",
     "text": [
      "\n",
      "Scoring tweets from  YungDreez_513\n"
     ]
    },
    {
     "data": {
      "application/vnd.jupyter.widget-view+json": {
       "model_id": "25601d4c73ce439d9e8f56e7818ec38c",
       "version_major": 2,
       "version_minor": 0
      },
      "text/plain": [
       "HBox(children=(IntProgress(value=0, max=2550), HTML(value='')))"
      ]
     },
     "metadata": {},
     "output_type": "display_data"
    },
    {
     "name": "stdout",
     "output_type": "stream",
     "text": [
      "\n",
      "Scoring tweets from  Chicatriste_\n"
     ]
    },
    {
     "data": {
      "application/vnd.jupyter.widget-view+json": {
       "model_id": "216fa11ab2e742e89923575d2d64ff89",
       "version_major": 2,
       "version_minor": 0
      },
      "text/plain": [
       "HBox(children=(IntProgress(value=0, max=1391), HTML(value='')))"
      ]
     },
     "metadata": {},
     "output_type": "display_data"
    },
    {
     "name": "stdout",
     "output_type": "stream",
     "text": [
      "\n",
      "Scoring tweets from  daddyrogo\n"
     ]
    },
    {
     "data": {
      "application/vnd.jupyter.widget-view+json": {
       "model_id": "f334820fa20e41a89fba1cf34c235419",
       "version_major": 2,
       "version_minor": 0
      },
      "text/plain": [
       "HBox(children=(IntProgress(value=0, max=1219), HTML(value='')))"
      ]
     },
     "metadata": {},
     "output_type": "display_data"
    },
    {
     "name": "stdout",
     "output_type": "stream",
     "text": [
      "\n",
      "Scoring tweets from  ayolilmami\n"
     ]
    },
    {
     "data": {
      "application/vnd.jupyter.widget-view+json": {
       "model_id": "f337e0062245439291201f5f612c7120",
       "version_major": 2,
       "version_minor": 0
      },
      "text/plain": [
       "HBox(children=(IntProgress(value=0, max=989), HTML(value='')))"
      ]
     },
     "metadata": {},
     "output_type": "display_data"
    },
    {
     "name": "stdout",
     "output_type": "stream",
     "text": [
      "\n",
      "Scoring tweets from  ch8tta\n"
     ]
    },
    {
     "data": {
      "application/vnd.jupyter.widget-view+json": {
       "model_id": "035201d0b27b47a0be0bc744fe35fc16",
       "version_major": 2,
       "version_minor": 0
      },
      "text/plain": [
       "HBox(children=(IntProgress(value=0, max=1291), HTML(value='')))"
      ]
     },
     "metadata": {},
     "output_type": "display_data"
    },
    {
     "name": "stdout",
     "output_type": "stream",
     "text": [
      "\n",
      "Scoring tweets from  steveningersol1\n"
     ]
    },
    {
     "data": {
      "application/vnd.jupyter.widget-view+json": {
       "model_id": "6b37e95e5d1e464eae1d994383b5e574",
       "version_major": 2,
       "version_minor": 0
      },
      "text/plain": [
       "HBox(children=(IntProgress(value=0, max=2112), HTML(value='')))"
      ]
     },
     "metadata": {},
     "output_type": "display_data"
    },
    {
     "name": "stdout",
     "output_type": "stream",
     "text": [
      "\n",
      "Scoring tweets from  thatgirlkanisha\n"
     ]
    },
    {
     "data": {
      "application/vnd.jupyter.widget-view+json": {
       "model_id": "12b944f51e6446a8b6851dfaa7688bd5",
       "version_major": 2,
       "version_minor": 0
      },
      "text/plain": [
       "HBox(children=(IntProgress(value=0, max=1627), HTML(value='')))"
      ]
     },
     "metadata": {},
     "output_type": "display_data"
    },
    {
     "name": "stdout",
     "output_type": "stream",
     "text": [
      "\n",
      "Scoring tweets from  parishighlife\n"
     ]
    },
    {
     "data": {
      "application/vnd.jupyter.widget-view+json": {
       "model_id": "466d23204cd847dbbb4d523c5122f6d1",
       "version_major": 2,
       "version_minor": 0
      },
      "text/plain": [
       "HBox(children=(IntProgress(value=0, max=2765), HTML(value='')))"
      ]
     },
     "metadata": {},
     "output_type": "display_data"
    },
    {
     "name": "stdout",
     "output_type": "stream",
     "text": [
      "\n",
      "Scoring tweets from  kbc00per\n"
     ]
    },
    {
     "data": {
      "application/vnd.jupyter.widget-view+json": {
       "model_id": "fcb0790d03cc4eefb5f713a6dcfc08bf",
       "version_major": 2,
       "version_minor": 0
      },
      "text/plain": [
       "HBox(children=(IntProgress(value=0, max=2408), HTML(value='')))"
      ]
     },
     "metadata": {},
     "output_type": "display_data"
    },
    {
     "name": "stdout",
     "output_type": "stream",
     "text": [
      "\n",
      "Scoring tweets from  sammay_b\n"
     ]
    },
    {
     "data": {
      "application/vnd.jupyter.widget-view+json": {
       "model_id": "04a3c7d8b5f04c3d9bf0a48bede0fd67",
       "version_major": 2,
       "version_minor": 0
      },
      "text/plain": [
       "HBox(children=(IntProgress(value=0, max=2463), HTML(value='')))"
      ]
     },
     "metadata": {},
     "output_type": "display_data"
    },
    {
     "name": "stdout",
     "output_type": "stream",
     "text": [
      "\n",
      "Scoring tweets from  parrazserenity\n"
     ]
    },
    {
     "data": {
      "application/vnd.jupyter.widget-view+json": {
       "model_id": "6016b957c0064d188c91be349c1fb33b",
       "version_major": 2,
       "version_minor": 0
      },
      "text/plain": [
       "HBox(children=(IntProgress(value=0, max=370), HTML(value='')))"
      ]
     },
     "metadata": {},
     "output_type": "display_data"
    },
    {
     "name": "stdout",
     "output_type": "stream",
     "text": [
      "\n",
      "Scoring tweets from  IrisNotIrish24\n"
     ]
    },
    {
     "data": {
      "application/vnd.jupyter.widget-view+json": {
       "model_id": "644a8d855084429da8cecd15b1785644",
       "version_major": 2,
       "version_minor": 0
      },
      "text/plain": [
       "HBox(children=(IntProgress(value=0, max=472), HTML(value='')))"
      ]
     },
     "metadata": {},
     "output_type": "display_data"
    },
    {
     "name": "stdout",
     "output_type": "stream",
     "text": [
      "\n",
      "Scoring tweets from  caitlinnwells\n"
     ]
    },
    {
     "data": {
      "application/vnd.jupyter.widget-view+json": {
       "model_id": "6228dee4f2fc405ab148b2019e24baf4",
       "version_major": 2,
       "version_minor": 0
      },
      "text/plain": [
       "HBox(children=(IntProgress(value=0, max=1130), HTML(value='')))"
      ]
     },
     "metadata": {},
     "output_type": "display_data"
    },
    {
     "name": "stdout",
     "output_type": "stream",
     "text": [
      "\n",
      "Scoring tweets from  Hayes_502\n"
     ]
    },
    {
     "data": {
      "application/vnd.jupyter.widget-view+json": {
       "model_id": "1a64a1abc2c8434ea50a1d9f4d5de7f5",
       "version_major": 2,
       "version_minor": 0
      },
      "text/plain": [
       "HBox(children=(IntProgress(value=0, max=2669), HTML(value='')))"
      ]
     },
     "metadata": {},
     "output_type": "display_data"
    },
    {
     "name": "stdout",
     "output_type": "stream",
     "text": [
      "\n",
      "Scoring tweets from  MDinOK\n"
     ]
    },
    {
     "data": {
      "application/vnd.jupyter.widget-view+json": {
       "model_id": "581d1c892f7b405885172e8d396ad959",
       "version_major": 2,
       "version_minor": 0
      },
      "text/plain": [
       "HBox(children=(IntProgress(value=0, max=1430), HTML(value='')))"
      ]
     },
     "metadata": {},
     "output_type": "display_data"
    },
    {
     "name": "stdout",
     "output_type": "stream",
     "text": [
      "\n",
      "Scoring tweets from  CloudyCanine\n"
     ]
    },
    {
     "data": {
      "application/vnd.jupyter.widget-view+json": {
       "model_id": "5e635482f79b4746bf9e0803fa37e9b8",
       "version_major": 2,
       "version_minor": 0
      },
      "text/plain": [
       "HBox(children=(IntProgress(value=0, max=2619), HTML(value='')))"
      ]
     },
     "metadata": {},
     "output_type": "display_data"
    },
    {
     "name": "stdout",
     "output_type": "stream",
     "text": [
      "\n",
      "Scoring tweets from  bailee_marie_mc\n"
     ]
    },
    {
     "data": {
      "application/vnd.jupyter.widget-view+json": {
       "model_id": "859ca6edc1f84213818930e71cff4525",
       "version_major": 2,
       "version_minor": 0
      },
      "text/plain": [
       "HBox(children=(IntProgress(value=0, max=177), HTML(value='')))"
      ]
     },
     "metadata": {},
     "output_type": "display_data"
    },
    {
     "name": "stdout",
     "output_type": "stream",
     "text": [
      "\n",
      "Scoring tweets from  madisonathacker\n"
     ]
    },
    {
     "data": {
      "application/vnd.jupyter.widget-view+json": {
       "model_id": "6332f7fdfa9c41e1984c6eae7580f67f",
       "version_major": 2,
       "version_minor": 0
      },
      "text/plain": [
       "HBox(children=(IntProgress(value=0, max=1368), HTML(value='')))"
      ]
     },
     "metadata": {},
     "output_type": "display_data"
    },
    {
     "name": "stdout",
     "output_type": "stream",
     "text": [
      "\n",
      "Scoring tweets from  RebekahhJM\n"
     ]
    },
    {
     "data": {
      "application/vnd.jupyter.widget-view+json": {
       "model_id": "d9d5a2b3973942309f65e5d3a5e4156d",
       "version_major": 2,
       "version_minor": 0
      },
      "text/plain": [
       "HBox(children=(IntProgress(value=0, max=2182), HTML(value='')))"
      ]
     },
     "metadata": {},
     "output_type": "display_data"
    },
    {
     "name": "stdout",
     "output_type": "stream",
     "text": [
      "\n",
      "Scoring tweets from  gayrissa\n"
     ]
    },
    {
     "data": {
      "application/vnd.jupyter.widget-view+json": {
       "model_id": "a31d60f8a83b423eb8158b94425c0fd4",
       "version_major": 2,
       "version_minor": 0
      },
      "text/plain": [
       "HBox(children=(IntProgress(value=0, max=951), HTML(value='')))"
      ]
     },
     "metadata": {},
     "output_type": "display_data"
    },
    {
     "name": "stdout",
     "output_type": "stream",
     "text": [
      "\n",
      "Scoring tweets from  keatsy2112\n"
     ]
    },
    {
     "data": {
      "application/vnd.jupyter.widget-view+json": {
       "model_id": "df845ed6590a4661a0747f333f6f5011",
       "version_major": 2,
       "version_minor": 0
      },
      "text/plain": [
       "HBox(children=(IntProgress(value=0, max=3207), HTML(value='')))"
      ]
     },
     "metadata": {},
     "output_type": "display_data"
    },
    {
     "name": "stdout",
     "output_type": "stream",
     "text": [
      "\n",
      "Scoring tweets from  alyssalg93\n"
     ]
    },
    {
     "data": {
      "application/vnd.jupyter.widget-view+json": {
       "model_id": "135036ccd2964f72986d1071e67bf34b",
       "version_major": 2,
       "version_minor": 0
      },
      "text/plain": [
       "HBox(children=(IntProgress(value=0, max=2733), HTML(value='')))"
      ]
     },
     "metadata": {},
     "output_type": "display_data"
    },
    {
     "name": "stdout",
     "output_type": "stream",
     "text": [
      "\n",
      "Scoring tweets from  lxrree\n"
     ]
    },
    {
     "data": {
      "application/vnd.jupyter.widget-view+json": {
       "model_id": "b4b65b3c98cc4cfba36a4af65d163c15",
       "version_major": 2,
       "version_minor": 0
      },
      "text/plain": [
       "HBox(children=(IntProgress(value=0, max=521), HTML(value='')))"
      ]
     },
     "metadata": {},
     "output_type": "display_data"
    },
    {
     "name": "stdout",
     "output_type": "stream",
     "text": [
      "\n",
      "Scoring tweets from  elizzabethkayy\n"
     ]
    },
    {
     "data": {
      "application/vnd.jupyter.widget-view+json": {
       "model_id": "efeaf4b578bf4824ac0d88b8b73459d6",
       "version_major": 2,
       "version_minor": 0
      },
      "text/plain": [
       "HBox(children=(IntProgress(value=0, max=1522), HTML(value='')))"
      ]
     },
     "metadata": {},
     "output_type": "display_data"
    },
    {
     "name": "stdout",
     "output_type": "stream",
     "text": [
      "\n",
      "Scoring tweets from  dorsey_5\n"
     ]
    },
    {
     "data": {
      "application/vnd.jupyter.widget-view+json": {
       "model_id": "9d72b6b564c3442f9a7d9389d9d212bf",
       "version_major": 2,
       "version_minor": 0
      },
      "text/plain": [
       "HBox(children=(IntProgress(value=0, max=2536), HTML(value='')))"
      ]
     },
     "metadata": {},
     "output_type": "display_data"
    },
    {
     "name": "stdout",
     "output_type": "stream",
     "text": [
      "\n",
      "Scoring tweets from  kvenissed\n"
     ]
    },
    {
     "data": {
      "application/vnd.jupyter.widget-view+json": {
       "model_id": "ee4ddb8721c54035a40afae116422c2b",
       "version_major": 2,
       "version_minor": 0
      },
      "text/plain": [
       "HBox(children=(IntProgress(value=0, max=1322), HTML(value='')))"
      ]
     },
     "metadata": {},
     "output_type": "display_data"
    },
    {
     "name": "stdout",
     "output_type": "stream",
     "text": [
      "\n",
      "Scoring tweets from  Taylor1Savanna\n"
     ]
    },
    {
     "data": {
      "application/vnd.jupyter.widget-view+json": {
       "model_id": "5570be6b5a7d4c3d8a16c474c6ab8abe",
       "version_major": 2,
       "version_minor": 0
      },
      "text/plain": [
       "HBox(children=(IntProgress(value=0, max=523), HTML(value='')))"
      ]
     },
     "metadata": {},
     "output_type": "display_data"
    },
    {
     "name": "stdout",
     "output_type": "stream",
     "text": [
      "\n"
     ]
    },
    {
     "data": {
      "text/plain": [
       "(67511, 13)"
      ]
     },
     "execution_count": 94,
     "metadata": {},
     "output_type": "execute_result"
    }
   ],
   "source": [
    "# Read all set of tweets and build sentiment dataframes\n",
    "df_emo_all = pd.DataFrame()\n",
    "for file in os.listdir('data/tweets'):  \n",
    "    df = pd.read_csv('data/tweets/'+file, delimiter=',')\n",
    "    df['screen_name'] = os.path.splitext(file)[0]\n",
    "    print(\"Scoring tweets from \", os.path.splitext(file)[0])\n",
    "    df_emo = text_emotion(df, 'text')\n",
    "    df_emo_all = pd.concat([df_emo_all, df_emo])\n",
    "    \n",
    "df_emo_all.shape"
   ]
  },
  {
   "cell_type": "code",
   "execution_count": 29,
   "metadata": {},
   "outputs": [
    {
     "data": {
      "text/html": [
       "<div>\n",
       "<style scoped>\n",
       "    .dataframe tbody tr th:only-of-type {\n",
       "        vertical-align: middle;\n",
       "    }\n",
       "\n",
       "    .dataframe tbody tr th {\n",
       "        vertical-align: top;\n",
       "    }\n",
       "\n",
       "    .dataframe thead th {\n",
       "        text-align: right;\n",
       "    }\n",
       "</style>\n",
       "<table border=\"1\" class=\"dataframe\">\n",
       "  <thead>\n",
       "    <tr style=\"text-align: right;\">\n",
       "      <th></th>\n",
       "      <th>text</th>\n",
       "      <th>screen_name</th>\n",
       "      <th>document</th>\n",
       "      <th>anger</th>\n",
       "      <th>anticipation</th>\n",
       "      <th>disgust</th>\n",
       "      <th>fear</th>\n",
       "      <th>joy</th>\n",
       "      <th>negative</th>\n",
       "      <th>positive</th>\n",
       "      <th>sadness</th>\n",
       "      <th>surprise</th>\n",
       "      <th>trust</th>\n",
       "    </tr>\n",
       "  </thead>\n",
       "  <tbody>\n",
       "    <tr>\n",
       "      <td>0</td>\n",
       "      <td>@GrantCoss_19 Not me! I stop 100X for dance br...</td>\n",
       "      <td>alyssalg93</td>\n",
       "      <td>[@, grantcoss_19, not, me, !, i, stop, 100x, f...</td>\n",
       "      <td>0.0</td>\n",
       "      <td>0.0</td>\n",
       "      <td>0.0</td>\n",
       "      <td>0.0</td>\n",
       "      <td>0.0</td>\n",
       "      <td>0.0</td>\n",
       "      <td>0.0</td>\n",
       "      <td>0.0</td>\n",
       "      <td>0.0</td>\n",
       "      <td>0.0</td>\n",
       "    </tr>\n",
       "    <tr>\n",
       "      <td>1</td>\n",
       "      <td>@dean_unglert looks bored af during this meeti...</td>\n",
       "      <td>alyssalg93</td>\n",
       "      <td>[@, dean_unglert, look, bore, af, dure, this, ...</td>\n",
       "      <td>0.0</td>\n",
       "      <td>0.0</td>\n",
       "      <td>0.0</td>\n",
       "      <td>0.0</td>\n",
       "      <td>0.0</td>\n",
       "      <td>0.0</td>\n",
       "      <td>0.0</td>\n",
       "      <td>0.0</td>\n",
       "      <td>0.0</td>\n",
       "      <td>0.0</td>\n",
       "    </tr>\n",
       "    <tr>\n",
       "      <td>2</td>\n",
       "      <td>@RBlaedow @ShaniaTwain And until they invite B...</td>\n",
       "      <td>alyssalg93</td>\n",
       "      <td>[@, rblaedow, @, shaniatwain, and, until, they...</td>\n",
       "      <td>0.0</td>\n",
       "      <td>0.0</td>\n",
       "      <td>0.0</td>\n",
       "      <td>0.0</td>\n",
       "      <td>0.0</td>\n",
       "      <td>0.0</td>\n",
       "      <td>0.0</td>\n",
       "      <td>0.0</td>\n",
       "      <td>0.0</td>\n",
       "      <td>0.0</td>\n",
       "    </tr>\n",
       "    <tr>\n",
       "      <td>3</td>\n",
       "      <td>I never want raven or Paul to be HOH #BB19</td>\n",
       "      <td>alyssalg93</td>\n",
       "      <td>[i, never, want, raven, or, paul, to, be, hoh,...</td>\n",
       "      <td>1.0</td>\n",
       "      <td>0.0</td>\n",
       "      <td>0.0</td>\n",
       "      <td>1.0</td>\n",
       "      <td>0.0</td>\n",
       "      <td>2.0</td>\n",
       "      <td>0.0</td>\n",
       "      <td>2.0</td>\n",
       "      <td>0.0</td>\n",
       "      <td>0.0</td>\n",
       "    </tr>\n",
       "    <tr>\n",
       "      <td>4</td>\n",
       "      <td>Dorit Kemsley just liked my comment on Ig. Lif...</td>\n",
       "      <td>alyssalg93</td>\n",
       "      <td>[dorit, kemsley, just, like, my, comment, on, ...</td>\n",
       "      <td>0.0</td>\n",
       "      <td>0.0</td>\n",
       "      <td>0.0</td>\n",
       "      <td>0.0</td>\n",
       "      <td>0.0</td>\n",
       "      <td>0.0</td>\n",
       "      <td>1.0</td>\n",
       "      <td>0.0</td>\n",
       "      <td>0.0</td>\n",
       "      <td>0.0</td>\n",
       "    </tr>\n",
       "  </tbody>\n",
       "</table>\n",
       "</div>"
      ],
      "text/plain": [
       "                                                text screen_name  \\\n",
       "0  @GrantCoss_19 Not me! I stop 100X for dance br...  alyssalg93   \n",
       "1  @dean_unglert looks bored af during this meeti...  alyssalg93   \n",
       "2  @RBlaedow @ShaniaTwain And until they invite B...  alyssalg93   \n",
       "3         I never want raven or Paul to be HOH #BB19  alyssalg93   \n",
       "4  Dorit Kemsley just liked my comment on Ig. Lif...  alyssalg93   \n",
       "\n",
       "                                            document  anger  anticipation  \\\n",
       "0  [@, grantcoss_19, not, me, !, i, stop, 100x, f...    0.0           0.0   \n",
       "1  [@, dean_unglert, look, bore, af, dure, this, ...    0.0           0.0   \n",
       "2  [@, rblaedow, @, shaniatwain, and, until, they...    0.0           0.0   \n",
       "3  [i, never, want, raven, or, paul, to, be, hoh,...    1.0           0.0   \n",
       "4  [dorit, kemsley, just, like, my, comment, on, ...    0.0           0.0   \n",
       "\n",
       "   disgust  fear  joy  negative  positive  sadness  surprise  trust  \n",
       "0      0.0   0.0  0.0       0.0       0.0      0.0       0.0    0.0  \n",
       "1      0.0   0.0  0.0       0.0       0.0      0.0       0.0    0.0  \n",
       "2      0.0   0.0  0.0       0.0       0.0      0.0       0.0    0.0  \n",
       "3      0.0   1.0  0.0       2.0       0.0      2.0       0.0    0.0  \n",
       "4      0.0   0.0  0.0       0.0       1.0      0.0       0.0    0.0  "
      ]
     },
     "execution_count": 29,
     "metadata": {},
     "output_type": "execute_result"
    }
   ],
   "source": [
    "df_emo_all.head()"
   ]
  },
  {
   "cell_type": "code",
   "execution_count": 95,
   "metadata": {},
   "outputs": [
    {
     "data": {
      "text/html": [
       "<div>\n",
       "<style scoped>\n",
       "    .dataframe tbody tr th:only-of-type {\n",
       "        vertical-align: middle;\n",
       "    }\n",
       "\n",
       "    .dataframe tbody tr th {\n",
       "        vertical-align: top;\n",
       "    }\n",
       "\n",
       "    .dataframe thead th {\n",
       "        text-align: right;\n",
       "    }\n",
       "</style>\n",
       "<table border=\"1\" class=\"dataframe\">\n",
       "  <thead>\n",
       "    <tr style=\"text-align: right;\">\n",
       "      <th></th>\n",
       "      <th>anger</th>\n",
       "      <th>anticipation</th>\n",
       "      <th>disgust</th>\n",
       "      <th>fear</th>\n",
       "      <th>joy</th>\n",
       "      <th>sadness</th>\n",
       "      <th>surprise</th>\n",
       "      <th>trust</th>\n",
       "      <th>negative</th>\n",
       "      <th>positive</th>\n",
       "      <th>n_tweets</th>\n",
       "    </tr>\n",
       "    <tr>\n",
       "      <th>screen_name</th>\n",
       "      <th></th>\n",
       "      <th></th>\n",
       "      <th></th>\n",
       "      <th></th>\n",
       "      <th></th>\n",
       "      <th></th>\n",
       "      <th></th>\n",
       "      <th></th>\n",
       "      <th></th>\n",
       "      <th></th>\n",
       "      <th></th>\n",
       "    </tr>\n",
       "  </thead>\n",
       "  <tbody>\n",
       "    <tr>\n",
       "      <td>Chicatriste_</td>\n",
       "      <td>0.211359</td>\n",
       "      <td>0.153127</td>\n",
       "      <td>0.171819</td>\n",
       "      <td>0.181884</td>\n",
       "      <td>0.300503</td>\n",
       "      <td>0.262401</td>\n",
       "      <td>0.081237</td>\n",
       "      <td>0.303379</td>\n",
       "      <td>0.549245</td>\n",
       "      <td>0.535586</td>\n",
       "      <td>1391</td>\n",
       "    </tr>\n",
       "    <tr>\n",
       "      <td>CloudyCanine</td>\n",
       "      <td>0.112257</td>\n",
       "      <td>0.108438</td>\n",
       "      <td>0.068347</td>\n",
       "      <td>0.129439</td>\n",
       "      <td>0.231768</td>\n",
       "      <td>0.139366</td>\n",
       "      <td>0.074456</td>\n",
       "      <td>0.234822</td>\n",
       "      <td>0.296296</td>\n",
       "      <td>0.478427</td>\n",
       "      <td>2619</td>\n",
       "    </tr>\n",
       "    <tr>\n",
       "      <td>Hayes_502</td>\n",
       "      <td>0.174223</td>\n",
       "      <td>0.130386</td>\n",
       "      <td>0.124391</td>\n",
       "      <td>0.167478</td>\n",
       "      <td>0.245410</td>\n",
       "      <td>0.211315</td>\n",
       "      <td>0.077557</td>\n",
       "      <td>0.255901</td>\n",
       "      <td>0.498314</td>\n",
       "      <td>0.473586</td>\n",
       "      <td>2669</td>\n",
       "    </tr>\n",
       "    <tr>\n",
       "      <td>IrisNotIrish24</td>\n",
       "      <td>0.148305</td>\n",
       "      <td>0.072034</td>\n",
       "      <td>0.078390</td>\n",
       "      <td>0.108051</td>\n",
       "      <td>0.141949</td>\n",
       "      <td>0.182203</td>\n",
       "      <td>0.061441</td>\n",
       "      <td>0.144068</td>\n",
       "      <td>0.447034</td>\n",
       "      <td>0.309322</td>\n",
       "      <td>472</td>\n",
       "    </tr>\n",
       "    <tr>\n",
       "      <td>LifeSuckSmith</td>\n",
       "      <td>0.074074</td>\n",
       "      <td>0.092593</td>\n",
       "      <td>0.055556</td>\n",
       "      <td>0.148148</td>\n",
       "      <td>0.166667</td>\n",
       "      <td>0.148148</td>\n",
       "      <td>0.018519</td>\n",
       "      <td>0.259259</td>\n",
       "      <td>0.388889</td>\n",
       "      <td>0.537037</td>\n",
       "      <td>54</td>\n",
       "    </tr>\n",
       "  </tbody>\n",
       "</table>\n",
       "</div>"
      ],
      "text/plain": [
       "                   anger  anticipation   disgust      fear       joy  \\\n",
       "screen_name                                                            \n",
       "Chicatriste_    0.211359      0.153127  0.171819  0.181884  0.300503   \n",
       "CloudyCanine    0.112257      0.108438  0.068347  0.129439  0.231768   \n",
       "Hayes_502       0.174223      0.130386  0.124391  0.167478  0.245410   \n",
       "IrisNotIrish24  0.148305      0.072034  0.078390  0.108051  0.141949   \n",
       "LifeSuckSmith   0.074074      0.092593  0.055556  0.148148  0.166667   \n",
       "\n",
       "                 sadness  surprise     trust  negative  positive  n_tweets  \n",
       "screen_name                                                                 \n",
       "Chicatriste_    0.262401  0.081237  0.303379  0.549245  0.535586      1391  \n",
       "CloudyCanine    0.139366  0.074456  0.234822  0.296296  0.478427      2619  \n",
       "Hayes_502       0.211315  0.077557  0.255901  0.498314  0.473586      2669  \n",
       "IrisNotIrish24  0.182203  0.061441  0.144068  0.447034  0.309322       472  \n",
       "LifeSuckSmith   0.148148  0.018519  0.259259  0.388889  0.537037        54  "
      ]
     },
     "execution_count": 95,
     "metadata": {},
     "output_type": "execute_result"
    }
   ],
   "source": [
    "# Aggregating Grouping data together\n",
    "df_emotions = df_emo_all.groupby('screen_name')['anger','anticipation', 'disgust', 'fear', 'joy', 'sadness', 'surprise', 'trust','negative', 'positive'].mean()\n",
    "df_emotions['n_tweets']=df_emo_all.screen_name.value_counts()\n",
    "df_emotions.head()"
   ]
  },
  {
   "cell_type": "code",
   "execution_count": null,
   "metadata": {},
   "outputs": [],
   "source": []
  },
  {
   "cell_type": "markdown",
   "metadata": {},
   "source": [
    "## Exploratory Analysis"
   ]
  },
  {
   "cell_type": "code",
   "execution_count": 96,
   "metadata": {
    "_kg_hide-input": true
   },
   "outputs": [],
   "source": [
    "# Distribution graphs (histogram/bar graph) of column data\n",
    "def plotPerColumnDistribution(df, nGraphShown, nGraphPerRow):\n",
    "    nunique = df.nunique()\n",
    "    df = df[[col for col in df if nunique[col] > 1 and nunique[col] < 50]] # For displaying purposes, pick columns that have between 1 and 50 unique values\n",
    "    nRow, nCol = df.shape\n",
    "    columnNames = list(df)\n",
    "    nGraphRow = (nCol + nGraphPerRow - 1) / nGraphPerRow\n",
    "    plt.figure(num = None, figsize = (6 * nGraphPerRow, 8 * nGraphRow), dpi = 80, facecolor = 'w', edgecolor = 'k')\n",
    "    for i in range(min(nCol, nGraphShown)):\n",
    "        plt.subplot(nGraphRow, nGraphPerRow, i + 1)\n",
    "        columnDf = df.iloc[:, i]\n",
    "        if (not np.issubdtype(type(columnDf.iloc[0]), np.number)):\n",
    "            valueCounts = columnDf.value_counts()\n",
    "            valueCounts.plot.bar()\n",
    "        else:\n",
    "            columnDf.hist()\n",
    "        plt.ylabel('counts')\n",
    "        plt.xticks(rotation = 90)\n",
    "        plt.title(f'{columnNames[i]} (column {i})')\n",
    "    plt.tight_layout(pad = 1.0, w_pad = 1.0, h_pad = 1.0)\n",
    "    plt.show()\n"
   ]
  },
  {
   "cell_type": "code",
   "execution_count": 97,
   "metadata": {
    "_kg_hide-input": true
   },
   "outputs": [],
   "source": [
    "# Correlation matrix\n",
    "def plotCorrelationMatrix(df, graphWidth):\n",
    "    #filename = df.dataframeName\n",
    "    df = df.dropna('columns') # drop columns with NaN\n",
    "    df = df[[col for col in df if df[col].nunique() > 1]] # keep columns where there are more than 1 unique values\n",
    "    if df.shape[1] < 2:\n",
    "        print(f'No correlation plots shown: The number of non-NaN or constant columns ({df.shape[1]}) is less than 2')\n",
    "        return\n",
    "    corr = df.corr()\n",
    "    plt.figure(num=None, figsize=(graphWidth, graphWidth), dpi=80, facecolor='w', edgecolor='k')\n",
    "    corrMat = plt.matshow(corr, fignum = 1)\n",
    "    plt.xticks(range(len(corr.columns)), corr.columns, rotation=90)\n",
    "    plt.yticks(range(len(corr.columns)), corr.columns)\n",
    "    plt.gca().xaxis.tick_bottom()\n",
    "    plt.colorbar(corrMat)\n",
    "    #plt.title(f'Correlation Matrix for {filename}', fontsize=15)\n",
    "    plt.title(f'Correlation Matrix', fontsize=15)\n",
    "    plt.show()\n"
   ]
  },
  {
   "cell_type": "code",
   "execution_count": 98,
   "metadata": {
    "_kg_hide-input": true
   },
   "outputs": [],
   "source": [
    "# Scatter and density plots\n",
    "def plotScatterMatrix(df, plotSize, textSize):\n",
    "    df = df.select_dtypes(include =[np.number]) # keep only numerical columns\n",
    "    # Remove rows and columns that would lead to df being singular\n",
    "    df = df.dropna('columns')\n",
    "    df = df[[col for col in df if df[col].nunique() > 1]] # keep columns where there are more than 1 unique values\n",
    "    columnNames = list(df)\n",
    "    if len(columnNames) > 10: # reduce the number of columns for matrix inversion of kernel density plots\n",
    "        columnNames = columnNames[:10]\n",
    "    df = df[columnNames]\n",
    "    ax = pd.plotting.scatter_matrix(df, alpha=0.75, figsize=[plotSize, plotSize], diagonal='kde')\n",
    "    corrs = df.corr().values\n",
    "    for i, j in zip(*plt.np.triu_indices_from(ax, k = 1)):\n",
    "        ax[i, j].annotate('Corr. coef = %.3f' % corrs[i, j], (0.8, 0.2), xycoords='axes fraction', ha='center', va='center', size=textSize)\n",
    "    plt.suptitle('Scatter and Density Plot')\n",
    "    plt.show()\n"
   ]
  },
  {
   "cell_type": "markdown",
   "metadata": {},
   "source": [
    "Now you're ready to read in the data and use the plotting functions to visualize the data."
   ]
  },
  {
   "cell_type": "markdown",
   "metadata": {},
   "source": [
    "Distribution graphs (histogram/bar graph) of sampled columns:"
   ]
  },
  {
   "cell_type": "code",
   "execution_count": 99,
   "metadata": {
    "_kg_hide-input": false
   },
   "outputs": [
    {
     "data": {
      "image/png": "[encoded data removed]",
      "text/plain": [
       "<Figure size 1920x2080 with 4 Axes>"
      ]
     },
     "metadata": {},
     "output_type": "display_data"
    }
   ],
   "source": [
    "plotPerColumnDistribution(df_emotions.drop(['n_tweets'], axis=1), 4, 4)\n",
    "#plotPerColumnDistribution(df1, 10, 5)"
   ]
  },
  {
   "cell_type": "markdown",
   "metadata": {},
   "source": [
    "Correlation matrix:"
   ]
  },
  {
   "cell_type": "code",
   "execution_count": 100,
   "metadata": {
    "_kg_hide-input": false
   },
   "outputs": [
    {
     "data": {
      "image/png": "[encoded data removed]",
      "text/plain": [
       "<Figure size 480x480 with 2 Axes>"
      ]
     },
     "metadata": {},
     "output_type": "display_data"
    }
   ],
   "source": [
    "plotCorrelationMatrix(df_emotions.drop(['n_tweets'], axis=1), 6)"
   ]
  },
  {
   "cell_type": "markdown",
   "metadata": {},
   "source": [
    "Scatter and density plots:"
   ]
  },
  {
   "cell_type": "code",
   "execution_count": 101,
   "metadata": {
    "_kg_hide-input": false
   },
   "outputs": [
    {
     "data": {
      "image/png": "[encoded data removed]",
      "text/plain": [
       "<Figure size 1296x1296 with 100 Axes>"
      ]
     },
     "metadata": {
      "needs_background": "light"
     },
     "output_type": "display_data"
    }
   ],
   "source": [
    "plotScatterMatrix(df_emotions.drop(['n_tweets'], axis=1), 18, 10)"
   ]
  },
  {
   "cell_type": "code",
   "execution_count": 102,
   "metadata": {},
   "outputs": [
    {
     "data": {
      "text/html": [
       "<div>\n",
       "<style scoped>\n",
       "    .dataframe tbody tr th:only-of-type {\n",
       "        vertical-align: middle;\n",
       "    }\n",
       "\n",
       "    .dataframe tbody tr th {\n",
       "        vertical-align: top;\n",
       "    }\n",
       "\n",
       "    .dataframe thead th {\n",
       "        text-align: right;\n",
       "    }\n",
       "</style>\n",
       "<table border=\"1\" class=\"dataframe\">\n",
       "  <thead>\n",
       "    <tr style=\"text-align: right;\">\n",
       "      <th></th>\n",
       "      <th>anger</th>\n",
       "      <th>anticipation</th>\n",
       "      <th>disgust</th>\n",
       "      <th>fear</th>\n",
       "      <th>joy</th>\n",
       "      <th>sadness</th>\n",
       "      <th>surprise</th>\n",
       "      <th>trust</th>\n",
       "      <th>negative</th>\n",
       "      <th>positive</th>\n",
       "      <th>n_tweets</th>\n",
       "    </tr>\n",
       "    <tr>\n",
       "      <th>screen_name</th>\n",
       "      <th></th>\n",
       "      <th></th>\n",
       "      <th></th>\n",
       "      <th></th>\n",
       "      <th></th>\n",
       "      <th></th>\n",
       "      <th></th>\n",
       "      <th></th>\n",
       "      <th></th>\n",
       "      <th></th>\n",
       "      <th></th>\n",
       "    </tr>\n",
       "  </thead>\n",
       "  <tbody>\n",
       "    <tr>\n",
       "      <td>Chicatriste_</td>\n",
       "      <td>0.211359</td>\n",
       "      <td>0.153127</td>\n",
       "      <td>0.171819</td>\n",
       "      <td>0.181884</td>\n",
       "      <td>0.300503</td>\n",
       "      <td>0.262401</td>\n",
       "      <td>0.081237</td>\n",
       "      <td>0.303379</td>\n",
       "      <td>0.549245</td>\n",
       "      <td>0.535586</td>\n",
       "      <td>1391</td>\n",
       "    </tr>\n",
       "    <tr>\n",
       "      <td>CloudyCanine</td>\n",
       "      <td>0.112257</td>\n",
       "      <td>0.108438</td>\n",
       "      <td>0.068347</td>\n",
       "      <td>0.129439</td>\n",
       "      <td>0.231768</td>\n",
       "      <td>0.139366</td>\n",
       "      <td>0.074456</td>\n",
       "      <td>0.234822</td>\n",
       "      <td>0.296296</td>\n",
       "      <td>0.478427</td>\n",
       "      <td>2619</td>\n",
       "    </tr>\n",
       "    <tr>\n",
       "      <td>Hayes_502</td>\n",
       "      <td>0.174223</td>\n",
       "      <td>0.130386</td>\n",
       "      <td>0.124391</td>\n",
       "      <td>0.167478</td>\n",
       "      <td>0.245410</td>\n",
       "      <td>0.211315</td>\n",
       "      <td>0.077557</td>\n",
       "      <td>0.255901</td>\n",
       "      <td>0.498314</td>\n",
       "      <td>0.473586</td>\n",
       "      <td>2669</td>\n",
       "    </tr>\n",
       "    <tr>\n",
       "      <td>IrisNotIrish24</td>\n",
       "      <td>0.148305</td>\n",
       "      <td>0.072034</td>\n",
       "      <td>0.078390</td>\n",
       "      <td>0.108051</td>\n",
       "      <td>0.141949</td>\n",
       "      <td>0.182203</td>\n",
       "      <td>0.061441</td>\n",
       "      <td>0.144068</td>\n",
       "      <td>0.447034</td>\n",
       "      <td>0.309322</td>\n",
       "      <td>472</td>\n",
       "    </tr>\n",
       "    <tr>\n",
       "      <td>LifeSuckSmith</td>\n",
       "      <td>0.074074</td>\n",
       "      <td>0.092593</td>\n",
       "      <td>0.055556</td>\n",
       "      <td>0.148148</td>\n",
       "      <td>0.166667</td>\n",
       "      <td>0.148148</td>\n",
       "      <td>0.018519</td>\n",
       "      <td>0.259259</td>\n",
       "      <td>0.388889</td>\n",
       "      <td>0.537037</td>\n",
       "      <td>54</td>\n",
       "    </tr>\n",
       "  </tbody>\n",
       "</table>\n",
       "</div>"
      ],
      "text/plain": [
       "                   anger  anticipation   disgust      fear       joy  \\\n",
       "screen_name                                                            \n",
       "Chicatriste_    0.211359      0.153127  0.171819  0.181884  0.300503   \n",
       "CloudyCanine    0.112257      0.108438  0.068347  0.129439  0.231768   \n",
       "Hayes_502       0.174223      0.130386  0.124391  0.167478  0.245410   \n",
       "IrisNotIrish24  0.148305      0.072034  0.078390  0.108051  0.141949   \n",
       "LifeSuckSmith   0.074074      0.092593  0.055556  0.148148  0.166667   \n",
       "\n",
       "                 sadness  surprise     trust  negative  positive  n_tweets  \n",
       "screen_name                                                                 \n",
       "Chicatriste_    0.262401  0.081237  0.303379  0.549245  0.535586      1391  \n",
       "CloudyCanine    0.139366  0.074456  0.234822  0.296296  0.478427      2619  \n",
       "Hayes_502       0.211315  0.077557  0.255901  0.498314  0.473586      2669  \n",
       "IrisNotIrish24  0.182203  0.061441  0.144068  0.447034  0.309322       472  \n",
       "LifeSuckSmith   0.148148  0.018519  0.259259  0.388889  0.537037        54  "
      ]
     },
     "execution_count": 102,
     "metadata": {},
     "output_type": "execute_result"
    }
   ],
   "source": [
    "df_emotions.head()"
   ]
  },
  {
   "cell_type": "code",
   "execution_count": 103,
   "metadata": {},
   "outputs": [
    {
     "data": {
      "text/html": [
       "<div>\n",
       "<style scoped>\n",
       "    .dataframe tbody tr th:only-of-type {\n",
       "        vertical-align: middle;\n",
       "    }\n",
       "\n",
       "    .dataframe tbody tr th {\n",
       "        vertical-align: top;\n",
       "    }\n",
       "\n",
       "    .dataframe thead th {\n",
       "        text-align: right;\n",
       "    }\n",
       "</style>\n",
       "<table border=\"1\" class=\"dataframe\">\n",
       "  <thead>\n",
       "    <tr style=\"text-align: right;\">\n",
       "      <th></th>\n",
       "      <th>anger</th>\n",
       "      <th>anticipation</th>\n",
       "      <th>disgust</th>\n",
       "      <th>fear</th>\n",
       "      <th>joy</th>\n",
       "      <th>sadness</th>\n",
       "      <th>surprise</th>\n",
       "      <th>trust</th>\n",
       "      <th>negative</th>\n",
       "      <th>positive</th>\n",
       "      <th>n_tweets</th>\n",
       "    </tr>\n",
       "    <tr>\n",
       "      <th>screen_name</th>\n",
       "      <th></th>\n",
       "      <th></th>\n",
       "      <th></th>\n",
       "      <th></th>\n",
       "      <th></th>\n",
       "      <th></th>\n",
       "      <th></th>\n",
       "      <th></th>\n",
       "      <th></th>\n",
       "      <th></th>\n",
       "      <th></th>\n",
       "    </tr>\n",
       "  </thead>\n",
       "  <tbody>\n",
       "    <tr>\n",
       "      <td>gertrxde</td>\n",
       "      <td>0.323976</td>\n",
       "      <td>0.151585</td>\n",
       "      <td>0.204425</td>\n",
       "      <td>0.26288</td>\n",
       "      <td>0.278732</td>\n",
       "      <td>0.318032</td>\n",
       "      <td>0.111955</td>\n",
       "      <td>0.325627</td>\n",
       "      <td>0.635403</td>\n",
       "      <td>0.522127</td>\n",
       "      <td>3028</td>\n",
       "    </tr>\n",
       "    <tr>\n",
       "      <td>saadteengiirl</td>\n",
       "      <td>0.500000</td>\n",
       "      <td>0.125000</td>\n",
       "      <td>0.250000</td>\n",
       "      <td>0.12500</td>\n",
       "      <td>0.250000</td>\n",
       "      <td>0.125000</td>\n",
       "      <td>0.000000</td>\n",
       "      <td>0.500000</td>\n",
       "      <td>0.750000</td>\n",
       "      <td>0.625000</td>\n",
       "      <td>8</td>\n",
       "    </tr>\n",
       "  </tbody>\n",
       "</table>\n",
       "</div>"
      ],
      "text/plain": [
       "                  anger  anticipation   disgust     fear       joy   sadness  \\\n",
       "screen_name                                                                    \n",
       "gertrxde       0.323976      0.151585  0.204425  0.26288  0.278732  0.318032   \n",
       "saadteengiirl  0.500000      0.125000  0.250000  0.12500  0.250000  0.125000   \n",
       "\n",
       "               surprise     trust  negative  positive  n_tweets  \n",
       "screen_name                                                      \n",
       "gertrxde       0.111955  0.325627  0.635403  0.522127      3028  \n",
       "saadteengiirl  0.000000  0.500000  0.750000  0.625000         8  "
      ]
     },
     "execution_count": 103,
     "metadata": {},
     "output_type": "execute_result"
    }
   ],
   "source": [
    "# How many bullies do we have??\n",
    "\n",
    "df_emotions[df_emotions.anger > 0.3]"
   ]
  },
  {
   "cell_type": "code",
   "execution_count": 104,
   "metadata": {},
   "outputs": [
    {
     "data": {
      "text/html": [
       "<div>\n",
       "<style scoped>\n",
       "    .dataframe tbody tr th:only-of-type {\n",
       "        vertical-align: middle;\n",
       "    }\n",
       "\n",
       "    .dataframe tbody tr th {\n",
       "        vertical-align: top;\n",
       "    }\n",
       "\n",
       "    .dataframe thead th {\n",
       "        text-align: right;\n",
       "    }\n",
       "</style>\n",
       "<table border=\"1\" class=\"dataframe\">\n",
       "  <thead>\n",
       "    <tr style=\"text-align: right;\">\n",
       "      <th></th>\n",
       "      <th>anger</th>\n",
       "      <th>anticipation</th>\n",
       "      <th>disgust</th>\n",
       "      <th>fear</th>\n",
       "      <th>joy</th>\n",
       "      <th>sadness</th>\n",
       "      <th>surprise</th>\n",
       "      <th>trust</th>\n",
       "      <th>negative</th>\n",
       "      <th>positive</th>\n",
       "      <th>n_tweets</th>\n",
       "    </tr>\n",
       "    <tr>\n",
       "      <th>screen_name</th>\n",
       "      <th></th>\n",
       "      <th></th>\n",
       "      <th></th>\n",
       "      <th></th>\n",
       "      <th></th>\n",
       "      <th></th>\n",
       "      <th></th>\n",
       "      <th></th>\n",
       "      <th></th>\n",
       "      <th></th>\n",
       "      <th></th>\n",
       "    </tr>\n",
       "  </thead>\n",
       "  <tbody>\n",
       "  </tbody>\n",
       "</table>\n",
       "</div>"
      ],
      "text/plain": [
       "Empty DataFrame\n",
       "Columns: [anger, anticipation, disgust, fear, joy, sadness, surprise, trust, negative, positive, n_tweets]\n",
       "Index: []"
      ]
     },
     "execution_count": 104,
     "metadata": {},
     "output_type": "execute_result"
    }
   ],
   "source": [
    "# and potentially bullied?\n",
    "df_emotions[df_emotions.fear > 0.3]"
   ]
  },
  {
   "cell_type": "code",
   "execution_count": 105,
   "metadata": {},
   "outputs": [
    {
     "data": {
      "text/html": [
       "<div>\n",
       "<style scoped>\n",
       "    .dataframe tbody tr th:only-of-type {\n",
       "        vertical-align: middle;\n",
       "    }\n",
       "\n",
       "    .dataframe tbody tr th {\n",
       "        vertical-align: top;\n",
       "    }\n",
       "\n",
       "    .dataframe thead th {\n",
       "        text-align: right;\n",
       "    }\n",
       "</style>\n",
       "<table border=\"1\" class=\"dataframe\">\n",
       "  <thead>\n",
       "    <tr style=\"text-align: right;\">\n",
       "      <th></th>\n",
       "      <th>anger</th>\n",
       "      <th>anticipation</th>\n",
       "      <th>disgust</th>\n",
       "      <th>fear</th>\n",
       "      <th>joy</th>\n",
       "      <th>sadness</th>\n",
       "      <th>surprise</th>\n",
       "      <th>trust</th>\n",
       "      <th>negative</th>\n",
       "      <th>positive</th>\n",
       "      <th>n_tweets</th>\n",
       "    </tr>\n",
       "    <tr>\n",
       "      <th>screen_name</th>\n",
       "      <th></th>\n",
       "      <th></th>\n",
       "      <th></th>\n",
       "      <th></th>\n",
       "      <th></th>\n",
       "      <th></th>\n",
       "      <th></th>\n",
       "      <th></th>\n",
       "      <th></th>\n",
       "      <th></th>\n",
       "      <th></th>\n",
       "    </tr>\n",
       "  </thead>\n",
       "  <tbody>\n",
       "    <tr>\n",
       "      <td>saadteengiirl</td>\n",
       "      <td>0.500000</td>\n",
       "      <td>0.125000</td>\n",
       "      <td>0.250000</td>\n",
       "      <td>0.125000</td>\n",
       "      <td>0.250000</td>\n",
       "      <td>0.125000</td>\n",
       "      <td>0.000000</td>\n",
       "      <td>0.500000</td>\n",
       "      <td>0.750000</td>\n",
       "      <td>0.625000</td>\n",
       "      <td>8</td>\n",
       "    </tr>\n",
       "    <tr>\n",
       "      <td>gertrxde</td>\n",
       "      <td>0.323976</td>\n",
       "      <td>0.151585</td>\n",
       "      <td>0.204425</td>\n",
       "      <td>0.262880</td>\n",
       "      <td>0.278732</td>\n",
       "      <td>0.318032</td>\n",
       "      <td>0.111955</td>\n",
       "      <td>0.325627</td>\n",
       "      <td>0.635403</td>\n",
       "      <td>0.522127</td>\n",
       "      <td>3028</td>\n",
       "    </tr>\n",
       "    <tr>\n",
       "      <td>thelife_ofkeke</td>\n",
       "      <td>0.237500</td>\n",
       "      <td>0.142905</td>\n",
       "      <td>0.148649</td>\n",
       "      <td>0.220946</td>\n",
       "      <td>0.190878</td>\n",
       "      <td>0.247973</td>\n",
       "      <td>0.059122</td>\n",
       "      <td>0.217568</td>\n",
       "      <td>0.538514</td>\n",
       "      <td>0.403041</td>\n",
       "      <td>2960</td>\n",
       "    </tr>\n",
       "    <tr>\n",
       "      <td>Chicatriste_</td>\n",
       "      <td>0.211359</td>\n",
       "      <td>0.153127</td>\n",
       "      <td>0.171819</td>\n",
       "      <td>0.181884</td>\n",
       "      <td>0.300503</td>\n",
       "      <td>0.262401</td>\n",
       "      <td>0.081237</td>\n",
       "      <td>0.303379</td>\n",
       "      <td>0.549245</td>\n",
       "      <td>0.535586</td>\n",
       "      <td>1391</td>\n",
       "    </tr>\n",
       "    <tr>\n",
       "      <td>gayrissa</td>\n",
       "      <td>0.202944</td>\n",
       "      <td>0.173502</td>\n",
       "      <td>0.169295</td>\n",
       "      <td>0.234490</td>\n",
       "      <td>0.303891</td>\n",
       "      <td>0.280757</td>\n",
       "      <td>0.109359</td>\n",
       "      <td>0.320715</td>\n",
       "      <td>0.567823</td>\n",
       "      <td>0.634069</td>\n",
       "      <td>951</td>\n",
       "    </tr>\n",
       "    <tr>\n",
       "      <td>doragtz1999</td>\n",
       "      <td>0.196755</td>\n",
       "      <td>0.085193</td>\n",
       "      <td>0.132522</td>\n",
       "      <td>0.165652</td>\n",
       "      <td>0.182556</td>\n",
       "      <td>0.198783</td>\n",
       "      <td>0.054767</td>\n",
       "      <td>0.204192</td>\n",
       "      <td>0.449628</td>\n",
       "      <td>0.369844</td>\n",
       "      <td>1479</td>\n",
       "    </tr>\n",
       "    <tr>\n",
       "      <td>sammay_b</td>\n",
       "      <td>0.187576</td>\n",
       "      <td>0.138449</td>\n",
       "      <td>0.124645</td>\n",
       "      <td>0.167682</td>\n",
       "      <td>0.274868</td>\n",
       "      <td>0.211531</td>\n",
       "      <td>0.092570</td>\n",
       "      <td>0.304507</td>\n",
       "      <td>0.494519</td>\n",
       "      <td>0.533902</td>\n",
       "      <td>2463</td>\n",
       "    </tr>\n",
       "    <tr>\n",
       "      <td>itsjustindiaaa</td>\n",
       "      <td>0.177089</td>\n",
       "      <td>0.109877</td>\n",
       "      <td>0.113968</td>\n",
       "      <td>0.158971</td>\n",
       "      <td>0.200468</td>\n",
       "      <td>0.173583</td>\n",
       "      <td>0.073641</td>\n",
       "      <td>0.215079</td>\n",
       "      <td>0.385739</td>\n",
       "      <td>0.375219</td>\n",
       "      <td>1711</td>\n",
       "    </tr>\n",
       "    <tr>\n",
       "      <td>parrazserenity</td>\n",
       "      <td>0.175676</td>\n",
       "      <td>0.151351</td>\n",
       "      <td>0.118919</td>\n",
       "      <td>0.167568</td>\n",
       "      <td>0.316216</td>\n",
       "      <td>0.262162</td>\n",
       "      <td>0.108108</td>\n",
       "      <td>0.354054</td>\n",
       "      <td>0.543243</td>\n",
       "      <td>0.624324</td>\n",
       "      <td>370</td>\n",
       "    </tr>\n",
       "    <tr>\n",
       "      <td>Hayes_502</td>\n",
       "      <td>0.174223</td>\n",
       "      <td>0.130386</td>\n",
       "      <td>0.124391</td>\n",
       "      <td>0.167478</td>\n",
       "      <td>0.245410</td>\n",
       "      <td>0.211315</td>\n",
       "      <td>0.077557</td>\n",
       "      <td>0.255901</td>\n",
       "      <td>0.498314</td>\n",
       "      <td>0.473586</td>\n",
       "      <td>2669</td>\n",
       "    </tr>\n",
       "  </tbody>\n",
       "</table>\n",
       "</div>"
      ],
      "text/plain": [
       "                   anger  anticipation   disgust      fear       joy  \\\n",
       "screen_name                                                            \n",
       "saadteengiirl   0.500000      0.125000  0.250000  0.125000  0.250000   \n",
       "gertrxde        0.323976      0.151585  0.204425  0.262880  0.278732   \n",
       "thelife_ofkeke  0.237500      0.142905  0.148649  0.220946  0.190878   \n",
       "Chicatriste_    0.211359      0.153127  0.171819  0.181884  0.300503   \n",
       "gayrissa        0.202944      0.173502  0.169295  0.234490  0.303891   \n",
       "doragtz1999     0.196755      0.085193  0.132522  0.165652  0.182556   \n",
       "sammay_b        0.187576      0.138449  0.124645  0.167682  0.274868   \n",
       "itsjustindiaaa  0.177089      0.109877  0.113968  0.158971  0.200468   \n",
       "parrazserenity  0.175676      0.151351  0.118919  0.167568  0.316216   \n",
       "Hayes_502       0.174223      0.130386  0.124391  0.167478  0.245410   \n",
       "\n",
       "                 sadness  surprise     trust  negative  positive  n_tweets  \n",
       "screen_name                                                                 \n",
       "saadteengiirl   0.125000  0.000000  0.500000  0.750000  0.625000         8  \n",
       "gertrxde        0.318032  0.111955  0.325627  0.635403  0.522127      3028  \n",
       "thelife_ofkeke  0.247973  0.059122  0.217568  0.538514  0.403041      2960  \n",
       "Chicatriste_    0.262401  0.081237  0.303379  0.549245  0.535586      1391  \n",
       "gayrissa        0.280757  0.109359  0.320715  0.567823  0.634069       951  \n",
       "doragtz1999     0.198783  0.054767  0.204192  0.449628  0.369844      1479  \n",
       "sammay_b        0.211531  0.092570  0.304507  0.494519  0.533902      2463  \n",
       "itsjustindiaaa  0.173583  0.073641  0.215079  0.385739  0.375219      1711  \n",
       "parrazserenity  0.262162  0.108108  0.354054  0.543243  0.624324       370  \n",
       "Hayes_502       0.211315  0.077557  0.255901  0.498314  0.473586      2669  "
      ]
     },
     "execution_count": 105,
     "metadata": {},
     "output_type": "execute_result"
    }
   ],
   "source": [
    "#Top 10 angriest\n",
    "df_emotions.sort_values(by='anger', ascending=False)[:10]"
   ]
  },
  {
   "cell_type": "code",
   "execution_count": 106,
   "metadata": {},
   "outputs": [
    {
     "data": {
      "text/html": [
       "<div>\n",
       "<style scoped>\n",
       "    .dataframe tbody tr th:only-of-type {\n",
       "        vertical-align: middle;\n",
       "    }\n",
       "\n",
       "    .dataframe tbody tr th {\n",
       "        vertical-align: top;\n",
       "    }\n",
       "\n",
       "    .dataframe thead th {\n",
       "        text-align: right;\n",
       "    }\n",
       "</style>\n",
       "<table border=\"1\" class=\"dataframe\">\n",
       "  <thead>\n",
       "    <tr style=\"text-align: right;\">\n",
       "      <th></th>\n",
       "      <th>anger</th>\n",
       "      <th>anticipation</th>\n",
       "      <th>disgust</th>\n",
       "      <th>fear</th>\n",
       "      <th>joy</th>\n",
       "      <th>sadness</th>\n",
       "      <th>surprise</th>\n",
       "      <th>trust</th>\n",
       "      <th>negative</th>\n",
       "      <th>positive</th>\n",
       "      <th>n_tweets</th>\n",
       "    </tr>\n",
       "    <tr>\n",
       "      <th>screen_name</th>\n",
       "      <th></th>\n",
       "      <th></th>\n",
       "      <th></th>\n",
       "      <th></th>\n",
       "      <th></th>\n",
       "      <th></th>\n",
       "      <th></th>\n",
       "      <th></th>\n",
       "      <th></th>\n",
       "      <th></th>\n",
       "      <th></th>\n",
       "    </tr>\n",
       "  </thead>\n",
       "  <tbody>\n",
       "    <tr>\n",
       "      <td>gertrxde</td>\n",
       "      <td>0.323976</td>\n",
       "      <td>0.151585</td>\n",
       "      <td>0.204425</td>\n",
       "      <td>0.262880</td>\n",
       "      <td>0.278732</td>\n",
       "      <td>0.318032</td>\n",
       "      <td>0.111955</td>\n",
       "      <td>0.325627</td>\n",
       "      <td>0.635403</td>\n",
       "      <td>0.522127</td>\n",
       "      <td>3028</td>\n",
       "    </tr>\n",
       "    <tr>\n",
       "      <td>Taylor1Savanna</td>\n",
       "      <td>0.118547</td>\n",
       "      <td>0.143403</td>\n",
       "      <td>0.089866</td>\n",
       "      <td>0.206501</td>\n",
       "      <td>0.275335</td>\n",
       "      <td>0.286807</td>\n",
       "      <td>0.087954</td>\n",
       "      <td>0.344168</td>\n",
       "      <td>0.495220</td>\n",
       "      <td>0.663480</td>\n",
       "      <td>523</td>\n",
       "    </tr>\n",
       "    <tr>\n",
       "      <td>WieBoth</td>\n",
       "      <td>0.139175</td>\n",
       "      <td>0.139175</td>\n",
       "      <td>0.128866</td>\n",
       "      <td>0.159794</td>\n",
       "      <td>0.180412</td>\n",
       "      <td>0.283505</td>\n",
       "      <td>0.067010</td>\n",
       "      <td>0.170103</td>\n",
       "      <td>0.474227</td>\n",
       "      <td>0.386598</td>\n",
       "      <td>194</td>\n",
       "    </tr>\n",
       "    <tr>\n",
       "      <td>gayrissa</td>\n",
       "      <td>0.202944</td>\n",
       "      <td>0.173502</td>\n",
       "      <td>0.169295</td>\n",
       "      <td>0.234490</td>\n",
       "      <td>0.303891</td>\n",
       "      <td>0.280757</td>\n",
       "      <td>0.109359</td>\n",
       "      <td>0.320715</td>\n",
       "      <td>0.567823</td>\n",
       "      <td>0.634069</td>\n",
       "      <td>951</td>\n",
       "    </tr>\n",
       "    <tr>\n",
       "      <td>Chicatriste_</td>\n",
       "      <td>0.211359</td>\n",
       "      <td>0.153127</td>\n",
       "      <td>0.171819</td>\n",
       "      <td>0.181884</td>\n",
       "      <td>0.300503</td>\n",
       "      <td>0.262401</td>\n",
       "      <td>0.081237</td>\n",
       "      <td>0.303379</td>\n",
       "      <td>0.549245</td>\n",
       "      <td>0.535586</td>\n",
       "      <td>1391</td>\n",
       "    </tr>\n",
       "    <tr>\n",
       "      <td>parrazserenity</td>\n",
       "      <td>0.175676</td>\n",
       "      <td>0.151351</td>\n",
       "      <td>0.118919</td>\n",
       "      <td>0.167568</td>\n",
       "      <td>0.316216</td>\n",
       "      <td>0.262162</td>\n",
       "      <td>0.108108</td>\n",
       "      <td>0.354054</td>\n",
       "      <td>0.543243</td>\n",
       "      <td>0.624324</td>\n",
       "      <td>370</td>\n",
       "    </tr>\n",
       "    <tr>\n",
       "      <td>thelife_ofkeke</td>\n",
       "      <td>0.237500</td>\n",
       "      <td>0.142905</td>\n",
       "      <td>0.148649</td>\n",
       "      <td>0.220946</td>\n",
       "      <td>0.190878</td>\n",
       "      <td>0.247973</td>\n",
       "      <td>0.059122</td>\n",
       "      <td>0.217568</td>\n",
       "      <td>0.538514</td>\n",
       "      <td>0.403041</td>\n",
       "      <td>2960</td>\n",
       "    </tr>\n",
       "    <tr>\n",
       "      <td>RebekahhJM</td>\n",
       "      <td>0.149863</td>\n",
       "      <td>0.146654</td>\n",
       "      <td>0.105866</td>\n",
       "      <td>0.168194</td>\n",
       "      <td>0.308433</td>\n",
       "      <td>0.236022</td>\n",
       "      <td>0.095784</td>\n",
       "      <td>0.328139</td>\n",
       "      <td>0.497250</td>\n",
       "      <td>0.630614</td>\n",
       "      <td>2182</td>\n",
       "    </tr>\n",
       "    <tr>\n",
       "      <td>alyssalg93</td>\n",
       "      <td>0.136114</td>\n",
       "      <td>0.190633</td>\n",
       "      <td>0.092938</td>\n",
       "      <td>0.172704</td>\n",
       "      <td>0.238200</td>\n",
       "      <td>0.219173</td>\n",
       "      <td>0.094036</td>\n",
       "      <td>0.251006</td>\n",
       "      <td>0.450055</td>\n",
       "      <td>0.503110</td>\n",
       "      <td>2733</td>\n",
       "    </tr>\n",
       "    <tr>\n",
       "      <td>sammay_b</td>\n",
       "      <td>0.187576</td>\n",
       "      <td>0.138449</td>\n",
       "      <td>0.124645</td>\n",
       "      <td>0.167682</td>\n",
       "      <td>0.274868</td>\n",
       "      <td>0.211531</td>\n",
       "      <td>0.092570</td>\n",
       "      <td>0.304507</td>\n",
       "      <td>0.494519</td>\n",
       "      <td>0.533902</td>\n",
       "      <td>2463</td>\n",
       "    </tr>\n",
       "  </tbody>\n",
       "</table>\n",
       "</div>"
      ],
      "text/plain": [
       "                   anger  anticipation   disgust      fear       joy  \\\n",
       "screen_name                                                            \n",
       "gertrxde        0.323976      0.151585  0.204425  0.262880  0.278732   \n",
       "Taylor1Savanna  0.118547      0.143403  0.089866  0.206501  0.275335   \n",
       "WieBoth         0.139175      0.139175  0.128866  0.159794  0.180412   \n",
       "gayrissa        0.202944      0.173502  0.169295  0.234490  0.303891   \n",
       "Chicatriste_    0.211359      0.153127  0.171819  0.181884  0.300503   \n",
       "parrazserenity  0.175676      0.151351  0.118919  0.167568  0.316216   \n",
       "thelife_ofkeke  0.237500      0.142905  0.148649  0.220946  0.190878   \n",
       "RebekahhJM      0.149863      0.146654  0.105866  0.168194  0.308433   \n",
       "alyssalg93      0.136114      0.190633  0.092938  0.172704  0.238200   \n",
       "sammay_b        0.187576      0.138449  0.124645  0.167682  0.274868   \n",
       "\n",
       "                 sadness  surprise     trust  negative  positive  n_tweets  \n",
       "screen_name                                                                 \n",
       "gertrxde        0.318032  0.111955  0.325627  0.635403  0.522127      3028  \n",
       "Taylor1Savanna  0.286807  0.087954  0.344168  0.495220  0.663480       523  \n",
       "WieBoth         0.283505  0.067010  0.170103  0.474227  0.386598       194  \n",
       "gayrissa        0.280757  0.109359  0.320715  0.567823  0.634069       951  \n",
       "Chicatriste_    0.262401  0.081237  0.303379  0.549245  0.535586      1391  \n",
       "parrazserenity  0.262162  0.108108  0.354054  0.543243  0.624324       370  \n",
       "thelife_ofkeke  0.247973  0.059122  0.217568  0.538514  0.403041      2960  \n",
       "RebekahhJM      0.236022  0.095784  0.328139  0.497250  0.630614      2182  \n",
       "alyssalg93      0.219173  0.094036  0.251006  0.450055  0.503110      2733  \n",
       "sammay_b        0.211531  0.092570  0.304507  0.494519  0.533902      2463  "
      ]
     },
     "execution_count": 106,
     "metadata": {},
     "output_type": "execute_result"
    }
   ],
   "source": [
    "#Top 10 saddest\n",
    "df_emotions.sort_values(by='sadness', ascending=False)[:10]"
   ]
  },
  {
   "cell_type": "code",
   "execution_count": 107,
   "metadata": {},
   "outputs": [],
   "source": [
    "# We could develop a metric to define a \"bully\" with some tresholds\n",
    "\n",
    "def is_a_bully(screen_name, df):\n",
    "    \"\"\"\n",
    "    Test function to flag a user as a potential bully using the aggregated metrics\n",
    "    \n",
    "    \"\"\"\n",
    "    \n",
    "    \n",
    "    \n",
    "    return False"
   ]
  },
  {
   "cell_type": "markdown",
   "metadata": {},
   "source": [
    "\n"
   ]
  },
  {
   "cell_type": "markdown",
   "metadata": {},
   "source": [
    "## Conclusion\n",
    "So where from now? Can you build a predictive model based on tweets?"
   ]
  },
  {
   "cell_type": "code",
   "execution_count": 108,
   "metadata": {},
   "outputs": [],
   "source": [
    "# Let's play with isiZulu\n",
    "\n",
    "def build_emolex(language):\n",
    "        \n",
    "    lexicon = \"NRC-Sentiment-Emotion-Lexicons/NRC-Emotion-Lexicon-v0.92/NRC-Emotion-Lexicon-v0.92_\"+language+\".txt\"\n",
    "    emolex_words = pd.read_csv(lexicon,\n",
    "                            index_col=0,\n",
    "                            sep='\\t', na_values='NO TRANSLATION')\n",
    "    print(emolex_words.shape)\n",
    "    #emolex_words.index = emolex_words.index.map(lambda w: stemmer.stem(w.lower()) if w else nan)\n",
    "\n",
    "    emotions = emolex_words.columns.values\n",
    "    emolex_words['emotions'] = list(zip(*map(emolex_words.get, emolex_words)))\n",
    "    # Convert into a dictionary for faster lookup\n",
    "    emolex_dict = emolex_words['emotions'].to_dict()\n",
    "    print(\"We built a dictionary of {} words associated to {} emotions\".format(len(emolex_dict), len(emotions)))\n",
    "    return (emolex_dict, emotions)"
   ]
  },
  {
   "cell_type": "code",
   "execution_count": 109,
   "metadata": {},
   "outputs": [
    {
     "name": "stdout",
     "output_type": "stream",
     "text": [
      "(14182, 10)\n",
      "We built a dictionary of 8825 words associated to 10 emotions\n"
     ]
    }
   ],
   "source": [
    "language='isizulu'\n",
    "isizulu = build_emolex('isizulu')"
   ]
  },
  {
   "cell_type": "code",
   "execution_count": 110,
   "metadata": {},
   "outputs": [
    {
     "data": {
      "text/plain": [
       "10"
      ]
     },
     "execution_count": 110,
     "metadata": {},
     "output_type": "execute_result"
    }
   ],
   "source": [
    "len(isizulu[1])"
   ]
  },
  {
   "cell_type": "code",
   "execution_count": 111,
   "metadata": {},
   "outputs": [],
   "source": [
    "# define a function to score a sentence\n",
    "from nltk import word_tokenize\n",
    "def sentence_emotions(sentence, emo_dict):\n",
    "    sentence_score = np.zeros(10)\n",
    "    emolex, emotions = emo_dict\n",
    "    document = word_tokenize(sentence)\n",
    "    for w, word in enumerate(document):\n",
    "                #document[w] = stemmer.stem(word.lower())\n",
    "                #emo_score = emolex_words[emolex_words.word == word].values\n",
    "                emo_score = emolex.get(word)\n",
    "                if emo_score != None:\n",
    "                    sentence_score += emo_score\n",
    "    print(\"Sentence scores:\")\n",
    "    for i in range(len(emotions)):\n",
    "        print(\"{}: {}\".format(emotions[i],sentence_score[i]))\n",
    "    return"
   ]
  },
  {
   "cell_type": "code",
   "execution_count": 112,
   "metadata": {},
   "outputs": [
    {
     "name": "stdout",
     "output_type": "stream",
     "text": [
      "Sentence scores:\n",
      "Positive: 0.0\n",
      "Negative: 2.0\n",
      "Anger: 1.0\n",
      "Anticipation: 0.0\n",
      "Disgust: 0.0\n",
      "Fear: 0.0\n",
      "Joy: 0.0\n",
      "Sadness: 1.0\n",
      "Surprise: 0.0\n",
      "Trust: 1.0\n"
     ]
    }
   ],
   "source": [
    "sentence_emotions(\"bulala ukudabuka\", isizulu)"
   ]
  },
  {
   "cell_type": "code",
   "execution_count": 113,
   "metadata": {},
   "outputs": [
    {
     "name": "stdout",
     "output_type": "stream",
     "text": [
      "(14182, 10)\n",
      "We built a dictionary of 8825 words associated to 10 emotions\n"
     ]
    }
   ],
   "source": [
    "language='isizulu'\n",
    "isizulu = build_emolex('isizulu')"
   ]
  },
  {
   "cell_type": "code",
   "execution_count": 114,
   "metadata": {},
   "outputs": [
    {
     "name": "stdout",
     "output_type": "stream",
     "text": [
      "(14182, 10)\n",
      "We built a dictionary of 8204 words associated to 10 emotions\n"
     ]
    }
   ],
   "source": [
    "language='xhosa'\n",
    "sesotho, emotions = build_emolex(language)"
   ]
  },
  {
   "cell_type": "code",
   "execution_count": 117,
   "metadata": {},
   "outputs": [
    {
     "name": "stdout",
     "output_type": "stream",
     "text": [
      "(14182, 10)\n",
      "We built a dictionary of 8167 words associated to 10 emotions\n"
     ]
    }
   ],
   "source": [
    "language='sesotho'\n",
    "sesotho, emotions = build_emolex(language)"
   ]
  },
  {
   "cell_type": "code",
   "execution_count": 118,
   "metadata": {},
   "outputs": [
    {
     "data": {
      "text/plain": [
       "(0, 1, 0, 0, 0, 0, 0, 0, 0, 1)"
      ]
     },
     "execution_count": 118,
     "metadata": {},
     "output_type": "execute_result"
    }
   ],
   "source": [
    "sesotho.get('ho etsa lichelete')"
   ]
  },
  {
   "cell_type": "code",
   "execution_count": 84,
   "metadata": {},
   "outputs": [
    {
     "name": "stdout",
     "output_type": "stream",
     "text": [
      "(13911, 10)\n",
      "We built a dictionary of 8166 words associated to 10 emotions\n"
     ]
    }
   ],
   "source": [
    "language='sesotho'\n",
    "lexicon = \"NRC-Sentiment-Emotion-Lexicons/NRC-Emotion-Lexicon-v0.92/NRC-Emotion-Lexicon-v0.92_\"+language+\".txt\"\n",
    "emolex_words = pd.read_csv(lexicon,\n",
    "                            index_col=0,\n",
    "                            sep='\\t')\n",
    "\n",
    "emolex_words = emolex_words[emolex_words.index!='NO TRANSLATION']\n",
    "\n",
    "print(emolex_words.shape)\n",
    "#emolex_words.index = emolex_words.index.map(lambda w: stemmer.stem(w.lower()) if w else nan)\n",
    "\n",
    "emotions = emolex_words.columns.values\n",
    "emolex_words['emotions'] = list(zip(*map(emolex_words.get, emolex_words)))\n",
    "emolex_dict = emolex_words['emotions'].to_dict()\n",
    "print(\"We built a dictionary of {} words associated to {} emotions\".format(len(emolex_dict), len(emotions)))\n"
   ]
  },
  {
   "cell_type": "code",
   "execution_count": 86,
   "metadata": {},
   "outputs": [
    {
     "data": {
      "text/plain": [
       "Index(['back', 'abacus', 'tlohela', 'e tlohetsoe', 'ho lahla', 'khaotsa',\n",
       "       'ho fokotseha', 'abba', 'Abbot', 'sefubedu',\n",
       "       ...\n",
       "       'ba chesehang', 'liqoaha', 'zenith', 'zephyr', 'zeppelin', 'zip',\n",
       "       'zodiac', 'zoo', 'tsa lintho tse phelang', 'zoology'],\n",
       "      dtype='object', name='Sesotho (st)', length=8166)"
      ]
     },
     "execution_count": 86,
     "metadata": {},
     "output_type": "execute_result"
    }
   ],
   "source": [
    "dict_set = set(emolex_words['emotions'].to_dict().keys())\n",
    "emo_set = set(emolex_words.index)\n"
   ]
  },
  {
   "cell_type": "code",
   "execution_count": null,
   "metadata": {},
   "outputs": [],
   "source": [
    "# Can you write a scoring function using bi-grams (a sequence of two words) and tri-grams (a sequence of three words)\n",
    "\n",
    "\n"
   ]
  },
  {
   "cell_type": "code",
   "execution_count": null,
   "metadata": {},
   "outputs": [],
   "source": [
    "# Build a dictionary that works for \"Joburg Zulu\" by mixing english and zulu words\n",
    "# and adding slang\n"
   ]
  }
 ],
 "metadata": {
  "kernelspec": {
   "display_name": "Python 3",
   "language": "python",
   "name": "python3"
  },
  "language_info": {
   "codemirror_mode": {
    "name": "ipython",
    "version": 3
   },
   "file_extension": ".py",
   "mimetype": "text/x-python",
   "name": "python",
   "nbconvert_exporter": "python",
   "pygments_lexer": "ipython3",
   "version": "3.7.4"
  }
 },
 "nbformat": 4,
 "nbformat_minor": 1
}
